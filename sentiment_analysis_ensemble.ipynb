{
  "nbformat": 4,
  "nbformat_minor": 0,
  "metadata": {
    "colab": {
      "provenance": [],
      "collapsed_sections": [
        "JoHZJWarIx9u"
      ],
      "authorship_tag": "ABX9TyM3mS8P8L6K1KAyXTbsTGIY",
      "include_colab_link": true
    },
    "kernelspec": {
      "name": "python3",
      "display_name": "Python 3"
    },
    "language_info": {
      "name": "python"
    }
  },
  "cells": [
    {
      "cell_type": "markdown",
      "metadata": {
        "id": "view-in-github",
        "colab_type": "text"
      },
      "source": [
        "<a href=\"https://colab.research.google.com/github/rrxloyeon/BASIC_text_mining/blob/main/sentiment_analysis_ensemble.ipynb\" target=\"_parent\"><img src=\"https://colab.research.google.com/assets/colab-badge.svg\" alt=\"Open In Colab\"/></a>"
      ]
    },
    {
      "cell_type": "markdown",
      "source": [
        "# 데이터 준비 : NLTK 영화 리뷰 데이터"
      ],
      "metadata": {
        "id": "zLPgWAWHIOwe"
      }
    },
    {
      "cell_type": "code",
      "source": [
        "import nltk\n",
        "nltk.download('movie_reviews')\n",
        "\n",
        "from nltk.corpus import movie_reviews\n",
        "from sklearn.metrics import accuracy_score"
      ],
      "metadata": {
        "colab": {
          "base_uri": "https://localhost:8080/"
        },
        "id": "kAz8H4V4IWUm",
        "outputId": "6066a472-dda9-4a5c-b719-4495f0f9bb51"
      },
      "execution_count": 1,
      "outputs": [
        {
          "output_type": "stream",
          "name": "stderr",
          "text": [
            "[nltk_data] Downloading package movie_reviews to /root/nltk_data...\n",
            "[nltk_data]   Package movie_reviews is already up-to-date!\n"
          ]
        }
      ]
    },
    {
      "cell_type": "code",
      "source": [
        "fileids = movie_reviews.fileids()\n",
        "reviews = [movie_reviews.raw(fileid) for fileid in fileids]\n",
        "categories = [movie_reviews.categories(fileid)[0] for fileid in fileids]"
      ],
      "metadata": {
        "id": "_GKfAfgAcRju"
      },
      "execution_count": 2,
      "outputs": []
    },
    {
      "cell_type": "markdown",
      "source": [
        "## 데이터 정보"
      ],
      "metadata": {
        "id": "JoHZJWarIx9u"
      }
    },
    {
      "cell_type": "code",
      "source": [
        "print('#review count:', len(movie_reviews.fileids()))\n",
        "print('#samples of file ids:', movie_reviews.fileids()[:10])\n",
        "print('#categories of reviews:', movie_reviews.categories())\n",
        "print('#num of \"neg\" reviews:', len(movie_reviews.fileids(categories='neg')))\n",
        "print('#num of \"pos\" reviews:', len(movie_reviews.fileids(categories='pos')))\n",
        "fileid = movie_reviews.fileids()[0]\n",
        "print('#id of the first review:', fileid)\n",
        "print('#part of the first review:', movie_reviews.raw(fileid)[:500])\n",
        "print('#sentiment of the first review:', movie_reviews.categories(fileid))"
      ],
      "metadata": {
        "colab": {
          "base_uri": "https://localhost:8080/"
        },
        "id": "ymhWJpb1I2AP",
        "outputId": "38bc466d-08f7-478b-9302-60e6fec799df"
      },
      "execution_count": 3,
      "outputs": [
        {
          "output_type": "stream",
          "name": "stdout",
          "text": [
            "#review count: 2000\n",
            "#samples of file ids: ['neg/cv000_29416.txt', 'neg/cv001_19502.txt', 'neg/cv002_17424.txt', 'neg/cv003_12683.txt', 'neg/cv004_12641.txt', 'neg/cv005_29357.txt', 'neg/cv006_17022.txt', 'neg/cv007_4992.txt', 'neg/cv008_29326.txt', 'neg/cv009_29417.txt']\n",
            "#categories of reviews: ['neg', 'pos']\n",
            "#num of \"neg\" reviews: 1000\n",
            "#num of \"pos\" reviews: 1000\n",
            "#id of the first review: neg/cv000_29416.txt\n",
            "#part of the first review: plot : two teen couples go to a church party , drink and then drive . \n",
            "they get into an accident . \n",
            "one of the guys dies , but his girlfriend continues to see him in her life , and has nightmares . \n",
            "what's the deal ? \n",
            "watch the movie and \" sorta \" find out . . . \n",
            "critique : a mind-fuck movie for the teen generation that touches on a very cool idea , but presents it in a very bad package . \n",
            "which is what makes this review an even harder one to write , since i generally applaud films which attempt\n",
            "#sentiment of the first review: ['neg']\n"
          ]
        }
      ]
    },
    {
      "cell_type": "markdown",
      "source": [
        "# 감성 사전을 이용한 감성분석"
      ],
      "metadata": {
        "id": "3533v0y_H_2G"
      }
    },
    {
      "cell_type": "markdown",
      "source": [
        "## TextBlob"
      ],
      "metadata": {
        "id": "ymGog-8WcXT3"
      }
    },
    {
      "cell_type": "code",
      "source": [
        "!pip install -U textblob\n",
        "!python -m textblob.download_corpora"
      ],
      "metadata": {
        "id": "2bZbNBZTIVKv",
        "colab": {
          "base_uri": "https://localhost:8080/"
        },
        "outputId": "47f7275c-665b-4e74-a8df-31271ce35dac"
      },
      "execution_count": 4,
      "outputs": [
        {
          "output_type": "stream",
          "name": "stdout",
          "text": [
            "Looking in indexes: https://pypi.org/simple, https://us-python.pkg.dev/colab-wheels/public/simple/\n",
            "Requirement already satisfied: textblob in /usr/local/lib/python3.7/dist-packages (0.17.1)\n",
            "Requirement already satisfied: nltk>=3.1 in /usr/local/lib/python3.7/dist-packages (from textblob) (3.7)\n",
            "Requirement already satisfied: joblib in /usr/local/lib/python3.7/dist-packages (from nltk>=3.1->textblob) (1.2.0)\n",
            "Requirement already satisfied: tqdm in /usr/local/lib/python3.7/dist-packages (from nltk>=3.1->textblob) (4.64.1)\n",
            "Requirement already satisfied: regex>=2021.8.3 in /usr/local/lib/python3.7/dist-packages (from nltk>=3.1->textblob) (2022.6.2)\n",
            "Requirement already satisfied: click in /usr/local/lib/python3.7/dist-packages (from nltk>=3.1->textblob) (7.1.2)\n",
            "[nltk_data] Downloading package brown to /root/nltk_data...\n",
            "[nltk_data]   Package brown is already up-to-date!\n",
            "[nltk_data] Downloading package punkt to /root/nltk_data...\n",
            "[nltk_data]   Package punkt is already up-to-date!\n",
            "[nltk_data] Downloading package wordnet to /root/nltk_data...\n",
            "[nltk_data]   Package wordnet is already up-to-date!\n",
            "[nltk_data] Downloading package averaged_perceptron_tagger to\n",
            "[nltk_data]     /root/nltk_data...\n",
            "[nltk_data]   Package averaged_perceptron_tagger is already up-to-\n",
            "[nltk_data]       date!\n",
            "[nltk_data] Downloading package conll2000 to /root/nltk_data...\n",
            "[nltk_data]   Package conll2000 is already up-to-date!\n",
            "[nltk_data] Downloading package movie_reviews to /root/nltk_data...\n",
            "[nltk_data]   Package movie_reviews is already up-to-date!\n",
            "Finished.\n"
          ]
        }
      ]
    },
    {
      "cell_type": "code",
      "source": [
        "from textblob import TextBlob\n",
        "\n",
        "result = TextBlob(reviews[0])\n",
        "print(result.sentiment)"
      ],
      "metadata": {
        "colab": {
          "base_uri": "https://localhost:8080/"
        },
        "id": "8CRyD_cdchLO",
        "outputId": "c0ac882d-50c4-42b9-b8f1-89274cca4002"
      },
      "execution_count": 5,
      "outputs": [
        {
          "output_type": "stream",
          "name": "stdout",
          "text": [
            "Sentiment(polarity=0.06479782948532947, subjectivity=0.5188408350908352)\n"
          ]
        }
      ]
    },
    {
      "cell_type": "code",
      "source": [
        "def sentiment_TextBlob(docs):\n",
        "  results = []\n",
        "  for doc in docs:\n",
        "    testimonial = TextBlob(doc)\n",
        "    if testimonial.sentiment.polarity > 0:\n",
        "      results.append('pos')\n",
        "    else:\n",
        "      results.append('neg')\n",
        "  return results"
      ],
      "metadata": {
        "id": "0a3QbAsAcncx"
      },
      "execution_count": 6,
      "outputs": []
    },
    {
      "cell_type": "code",
      "source": [
        "%time print('#TextBlob accuracy:', accuracy_score(categories, sentiment_TextBlob(reviews)))"
      ],
      "metadata": {
        "colab": {
          "base_uri": "https://localhost:8080/"
        },
        "id": "MqH52JDFc4bz",
        "outputId": "d0b8fcf2-95ea-4d89-ce20-559f15d70831"
      },
      "execution_count": 7,
      "outputs": [
        {
          "output_type": "stream",
          "name": "stdout",
          "text": [
            "#TextBlob accuracy: 0.6\n",
            "CPU times: user 9.94 s, sys: 43.6 ms, total: 9.98 s\n",
            "Wall time: 10.8 s\n"
          ]
        }
      ]
    },
    {
      "cell_type": "markdown",
      "source": [
        "## AFINN"
      ],
      "metadata": {
        "id": "OnPmDu0idHb-"
      }
    },
    {
      "cell_type": "code",
      "source": [
        "!pip install afinn"
      ],
      "metadata": {
        "colab": {
          "base_uri": "https://localhost:8080/"
        },
        "id": "dWfdoPcVdJJr",
        "outputId": "b19634ec-88fd-4547-ec8b-f67f3f6549a6"
      },
      "execution_count": 8,
      "outputs": [
        {
          "output_type": "stream",
          "name": "stdout",
          "text": [
            "Looking in indexes: https://pypi.org/simple, https://us-python.pkg.dev/colab-wheels/public/simple/\n",
            "Requirement already satisfied: afinn in /usr/local/lib/python3.7/dist-packages (0.1)\n"
          ]
        }
      ]
    },
    {
      "cell_type": "code",
      "source": [
        "from afinn import Afinn\n",
        "def sentiment_Afinn(docs):\n",
        "  afn = Afinn(emoticons=True)\n",
        "  results = []\n",
        "\n",
        "  for doc in docs:\n",
        "    if afn.score(doc) > 0:\n",
        "      results.append('pos')\n",
        "    else:\n",
        "      results.append('neg')\n",
        "  return results"
      ],
      "metadata": {
        "id": "LKGBKfPNdMI9"
      },
      "execution_count": 9,
      "outputs": []
    },
    {
      "cell_type": "code",
      "source": [
        "%time print('#AFINN accuracy:', accuracy_score(categories, sentiment_Afinn(reviews)))"
      ],
      "metadata": {
        "colab": {
          "base_uri": "https://localhost:8080/"
        },
        "id": "BWJyr-fTddwP",
        "outputId": "133610a2-db16-4085-bedf-24dce35a8366"
      },
      "execution_count": 10,
      "outputs": [
        {
          "output_type": "stream",
          "name": "stdout",
          "text": [
            "#AFINN accuracy: 0.664\n",
            "CPU times: user 48.5 s, sys: 168 ms, total: 48.7 s\n",
            "Wall time: 54.5 s\n"
          ]
        }
      ]
    },
    {
      "cell_type": "markdown",
      "source": [
        "##VADER"
      ],
      "metadata": {
        "id": "q9o57zundwE_"
      }
    },
    {
      "cell_type": "code",
      "source": [
        "import nltk\n",
        "nltk.download('vader_lexicon')\n",
        "\n",
        "# !pip install vaderSentiment"
      ],
      "metadata": {
        "colab": {
          "base_uri": "https://localhost:8080/"
        },
        "id": "xhmyrlOJd6b-",
        "outputId": "6d9ad48f-1991-4d61-90cd-0cba71de263a"
      },
      "execution_count": 11,
      "outputs": [
        {
          "output_type": "stream",
          "name": "stderr",
          "text": [
            "[nltk_data] Downloading package vader_lexicon to /root/nltk_data...\n",
            "[nltk_data]   Package vader_lexicon is already up-to-date!\n"
          ]
        },
        {
          "output_type": "execute_result",
          "data": {
            "text/plain": [
              "True"
            ]
          },
          "metadata": {},
          "execution_count": 11
        }
      ]
    },
    {
      "cell_type": "code",
      "source": [
        "from nltk.sentiment.vader import SentimentIntensityAnalyzer\n",
        "def sentiment_vader(docs):\n",
        "  analyser = SentimentIntensityAnalyzer()\n",
        "  results = []\n",
        "\n",
        "  for doc in docs:\n",
        "    score = analyser.polarity_scores(doc)\n",
        "    if score['compound'] > 0:\n",
        "      results.append('pos')\n",
        "    else:\n",
        "      results.append('neg')\n",
        "\n",
        "  return results"
      ],
      "metadata": {
        "id": "tJdkUr8ReLMW"
      },
      "execution_count": 12,
      "outputs": []
    },
    {
      "cell_type": "code",
      "source": [
        "%time print('#Vader accuracy:', accuracy_score(categories, sentiment_vader(reviews)))"
      ],
      "metadata": {
        "colab": {
          "base_uri": "https://localhost:8080/"
        },
        "id": "aRAr4YUQeqBF",
        "outputId": "ad31f244-b8e7-4360-8260-529570d9fd0b"
      },
      "execution_count": 13,
      "outputs": [
        {
          "output_type": "stream",
          "name": "stdout",
          "text": [
            "#Vader accuracy: 0.635\n",
            "CPU times: user 24.5 s, sys: 194 ms, total: 24.7 s\n",
            "Wall time: 30.3 s\n"
          ]
        }
      ]
    },
    {
      "cell_type": "markdown",
      "source": [
        "# 오답 분석"
      ],
      "metadata": {
        "id": "C_MF54IjkBEK"
      }
    },
    {
      "cell_type": "code",
      "source": [
        "import matplotlib.pyplot as plt"
      ],
      "metadata": {
        "id": "8zzVzajrn_of"
      },
      "execution_count": 14,
      "outputs": []
    },
    {
      "cell_type": "markdown",
      "source": [
        "- TextBlob (-1.0, 1.0)"
      ],
      "metadata": {
        "id": "z3wxK6PElbXm"
      }
    },
    {
      "cell_type": "code",
      "source": [
        "# TextBlob\n",
        "result_polarity = []\n",
        "result_subjectivity = []\n",
        "incorrect_polarity = []\n",
        "incorrect_subjectivity = []\n",
        "incorrect_idx = []\n",
        "for idx, pack in enumerate(zip(categories, reviews)):\n",
        "  true, doc = pack\n",
        "  test = TextBlob(doc)\n",
        "  pred = test.sentiment.polarity\n",
        "  sub = test.sentiment.subjectivity\n",
        "  result_polarity.append(pred)\n",
        "  result_subjectivity.append(sub)\n",
        "  if pred > 0 and true == 'neg':\n",
        "    incorrect_idx.append(idx)\n",
        "    incorrect_polarity.append(pred)\n",
        "    incorrect_subjectivity.append(sub)\n",
        "  elif pred <= 0 and true == 'pos':\n",
        "    incorrect_idx.append(idx)\n",
        "    incorrect_polarity.append(pred)\n",
        "    incorrect_subjectivity.append(sub)"
      ],
      "metadata": {
        "id": "S7Ck2XT9uXVx"
      },
      "execution_count": 15,
      "outputs": []
    },
    {
      "cell_type": "code",
      "source": [
        "print('#number of total data:', len(result_polarity))\n",
        "print(f'#number of incorrect:{len(incorrect_polarity)} ({len(incorrect_polarity)/len(result_polarity)*100}%)')\n",
        "print(\"#average of incorrect polarities:\", sum(incorrect_polarity)/len(incorrect_polarity))\n",
        "print(\"#average of incorrect subjectivities:\", sum(incorrect_subjectivity)/len(incorrect_subjectivity))\n",
        "print(\"#sample incorrect doc:\", reviews[incorrect_idx[0]])\n",
        "\n",
        "# total plot\n",
        "plt.subplot(221)\n",
        "plt.scatter(result_polarity, result_subjectivity, c='#FF9999')\n",
        "\n",
        "plt.subplot(223)\n",
        "plt.hist(result_polarity, bins=30, color='#FF9999')\n",
        "\n",
        "plt.subplot(222)\n",
        "plt.scatter(incorrect_polarity, incorrect_subjectivity, c='#9999FF')\n",
        "\n",
        "plt.subplot(224)\n",
        "plt.hist(incorrect_polarity, bins=30, color='#9999FF')\n",
        "\n",
        "plt.show()"
      ],
      "metadata": {
        "colab": {
          "base_uri": "https://localhost:8080/",
          "height": 1000
        },
        "id": "FgSVUVvUkEBZ",
        "outputId": "ac439d12-f07a-482a-bd5a-fd199ba112fb"
      },
      "execution_count": 16,
      "outputs": [
        {
          "output_type": "stream",
          "name": "stdout",
          "text": [
            "#number of total data: 2000\n",
            "#number of incorrect:800 (40.0%)\n",
            "#average of incorrect polarities: 0.07421264142459869\n",
            "#average of incorrect subjectivities: 0.5099037431685902\n",
            "#sample incorrect doc: plot : two teen couples go to a church party , drink and then drive . \n",
            "they get into an accident . \n",
            "one of the guys dies , but his girlfriend continues to see him in her life , and has nightmares . \n",
            "what's the deal ? \n",
            "watch the movie and \" sorta \" find out . . . \n",
            "critique : a mind-fuck movie for the teen generation that touches on a very cool idea , but presents it in a very bad package . \n",
            "which is what makes this review an even harder one to write , since i generally applaud films which attempt to break the mold , mess with your head and such ( lost highway & memento ) , but there are good and bad ways of making all types of films , and these folks just didn't snag this one correctly . \n",
            "they seem to have taken this pretty neat concept , but executed it terribly . \n",
            "so what are the problems with the movie ? \n",
            "well , its main problem is that it's simply too jumbled . \n",
            "it starts off \" normal \" but then downshifts into this \" fantasy \" world in which you , as an audience member , have no idea what's going on . \n",
            "there are dreams , there are characters coming back from the dead , there are others who look like the dead , there are strange apparitions , there are disappearances , there are a looooot of chase scenes , there are tons of weird things that happen , and most of it is simply not explained . \n",
            "now i personally don't mind trying to unravel a film every now and then , but when all it does is give me the same clue over and over again , i get kind of fed up after a while , which is this film's biggest problem . \n",
            "it's obviously got this big secret to hide , but it seems to want to hide it completely until its final five minutes . \n",
            "and do they make things entertaining , thrilling or even engaging , in the meantime ? \n",
            "not really . \n",
            "the sad part is that the arrow and i both dig on flicks like this , so we actually figured most of it out by the half-way point , so all of the strangeness after that did start to make a little bit of sense , but it still didn't the make the film all that more entertaining . \n",
            "i guess the bottom line with movies like this is that you should always make sure that the audience is \" into it \" even before they are given the secret password to enter your world of understanding . \n",
            "i mean , showing melissa sagemiller running away from visions for about 20 minutes throughout the movie is just plain lazy ! ! \n",
            "okay , we get it . . . there \n",
            "are people chasing her and we don't know who they are . \n",
            "do we really need to see it over and over again ? \n",
            "how about giving us different scenes offering further insight into all of the strangeness going down in the movie ? \n",
            "apparently , the studio took this film away from its director and chopped it up themselves , and it shows . \n",
            "there might've been a pretty decent teen mind-fuck movie in here somewhere , but i guess \" the suits \" decided that turning it into a music video with little edge , would make more sense . \n",
            "the actors are pretty good for the most part , although wes bentley just seemed to be playing the exact same character that he did in american beauty , only in a new neighborhood . \n",
            "but my biggest kudos go out to sagemiller , who holds her own throughout the entire film , and actually has you feeling her character's unraveling . \n",
            "overall , the film doesn't stick because it doesn't entertain , it's confusing , it rarely excites and it feels pretty redundant for most of its runtime , despite a pretty cool ending and explanation to all of the craziness that came before it . \n",
            "oh , and by the way , this is not a horror or teen slasher flick . . . it's \n",
            "just packaged to look that way because someone is apparently assuming that the genre is still hot with the kids . \n",
            "it also wrapped production two years ago and has been sitting on the shelves ever since . \n",
            "whatever . . . skip \n",
            "it ! \n",
            "where's joblo coming from ? \n",
            "a nightmare of elm street 3 ( 7/10 ) - blair witch 2 ( 7/10 ) - the crow ( 9/10 ) - the crow : salvation ( 4/10 ) - lost highway ( 10/10 ) - memento ( 10/10 ) - the others ( 9/10 ) - stir of echoes ( 8/10 ) \n",
            "\n"
          ]
        },
        {
          "output_type": "display_data",
          "data": {
            "text/plain": [
              "<Figure size 432x288 with 4 Axes>"
            ],
            "image/png": "[encoded data removed]"
          },
          "metadata": {
            "needs_background": "light"
          }
        }
      ]
    },
    {
      "cell_type": "markdown",
      "source": [
        "- AFINN (-5, 5)"
      ],
      "metadata": {
        "id": "aiuylI9Ivh_3"
      }
    },
    {
      "cell_type": "code",
      "source": [
        "# AFINN\n",
        "afn = Afinn(emoticons=True)\n",
        "incorrect_idx2 = []\n",
        "result_afinn = []\n",
        "incorrect_afinn = []\n",
        "for idx, pack in enumerate(zip(categories, reviews)):\n",
        "  true, doc = pack\n",
        "  pred = afn.score(doc)\n",
        "  result_afinn.append(pred)\n",
        "  if pred > 0 and true == 'neg':\n",
        "    incorrect_idx2.append(idx)\n",
        "    incorrect_afinn.append(pred)\n",
        "  elif pred <= 0 and true == 'pos':\n",
        "    incorrect_idx2.append(idx)\n",
        "    incorrect_afinn.append(pred)"
      ],
      "metadata": {
        "id": "gq6unAJ0vnk_"
      },
      "execution_count": 17,
      "outputs": []
    },
    {
      "cell_type": "code",
      "source": [
        "print('#number of total data:', len(result_afinn))\n",
        "print(f'#number of incorrect:{len(incorrect_afinn)} ({len(incorrect_afinn)/len(result_afinn)*100}%)')\n",
        "print(\"#average of incorrect:\", sum(incorrect_afinn)/len(incorrect_afinn))\n",
        "print(max(result_afinn))\n",
        "print(min(result_afinn))\n",
        "print(\"#sample incorrect doc:\", reviews[incorrect_idx2[0]])\n",
        "\n",
        "# total plot\n",
        "plt.subplot(121)\n",
        "plt.hist(result_afinn, bins=30, color='#FF9999')\n",
        "\n",
        "plt.subplot(122)\n",
        "plt.hist(incorrect_afinn, bins=30, color='#9999FF')\n",
        "\n",
        "plt.show()"
      ],
      "metadata": {
        "colab": {
          "base_uri": "https://localhost:8080/",
          "height": 634
        },
        "id": "ICbmNN0f1DDw",
        "outputId": "102172ec-b151-4102-ed10-78595ff7f208"
      },
      "execution_count": 18,
      "outputs": [
        {
          "output_type": "stream",
          "name": "stdout",
          "text": [
            "#number of total data: 2000\n",
            "#number of incorrect:672 (33.6%)\n",
            "#average of incorrect: 8.428571428571429\n",
            "182.0\n",
            "-111.0\n",
            "#sample incorrect doc: the happy bastard's quick movie review \n",
            "damn that y2k bug . \n",
            "it's got a head start in this movie starring jamie lee curtis and another baldwin brother ( william this time ) in a story regarding a crew of a tugboat that comes across a deserted russian tech ship that has a strangeness to it when they kick the power back on . \n",
            "little do they know the power within . . . \n",
            "going for the gore and bringing on a few action sequences here and there , virus still feels very empty , like a movie going for all flash and no substance . \n",
            "we don't know why the crew was really out in the middle of nowhere , we don't know the origin of what took over the ship ( just that a big pink flashy thing hit the mir ) , and , of course , we don't know why donald sutherland is stumbling around drunkenly throughout . \n",
            "here , it's just \" hey , let's chase these people around with some robots \" . \n",
            "the acting is below average , even from the likes of curtis . \n",
            "you're more likely to get a kick out of her work in halloween h20 . \n",
            "sutherland is wasted and baldwin , well , he's acting like a baldwin , of course . \n",
            "the real star here are stan winston's robot design , some schnazzy cgi , and the occasional good gore shot , like picking into someone's brain . \n",
            "so , if robots and body parts really turn you on , here's your movie . \n",
            "otherwise , it's pretty much a sunken ship of a movie . \n",
            "\n"
          ]
        },
        {
          "output_type": "display_data",
          "data": {
            "text/plain": [
              "<Figure size 432x288 with 2 Axes>"
            ],
            "image/png": "[encoded data removed]"
          },
          "metadata": {
            "needs_background": "light"
          }
        }
      ]
    },
    {
      "cell_type": "code",
      "source": [
        "# vader\n",
        "vader = SentimentIntensityAnalyzer()\n",
        "result_vader = []\n",
        "incorrect_vader = []\n",
        "incorrect_idx3 = []\n",
        "for idx, pack in enumerate(zip(categories, reviews)):\n",
        "  true, doc = pack\n",
        "  pred = vader.polarity_scores(doc)['compound']\n",
        "  result_vader.append(pred)\n",
        "  if pred > 0 and true == 'neg':\n",
        "    incorrect_idx3.append(idx)\n",
        "    incorrect_vader.append(pred)\n",
        "  elif pred <= 0 and true == 'pos':\n",
        "    incorrect_idx3.append(idx)\n",
        "    incorrect_vader.append(pred)"
      ],
      "metadata": {
        "id": "No-FCeLK5KMU"
      },
      "execution_count": 19,
      "outputs": []
    },
    {
      "cell_type": "code",
      "source": [
        "print('#number of total data:', len(result_vader))\n",
        "print(f'#number of incorrect:{len(incorrect_vader)} ({len(incorrect_vader)/len(result_vader)*100}%)')\n",
        "print(\"#average of incorrect:\", sum(incorrect_vader)/len(incorrect_vader))\n",
        "print(max(result_vader))\n",
        "print(min(result_vader))\n",
        "print(\"#sample incorrect doc:\", reviews[incorrect_idx3[0]])\n",
        "\n",
        "# total plot\n",
        "plt.subplot(121)\n",
        "plt.hist(result_vader, bins=30, color='#FF9999')\n",
        "\n",
        "plt.subplot(122)\n",
        "plt.hist(incorrect_vader, bins=30, color='#9999FF')\n",
        "\n",
        "plt.show()"
      ],
      "metadata": {
        "colab": {
          "base_uri": "https://localhost:8080/",
          "height": 1000
        },
        "id": "Gw1Otggv7aHU",
        "outputId": "c4b56a85-74a4-4612-f917-8f77e86dfa42"
      },
      "execution_count": 20,
      "outputs": [
        {
          "output_type": "stream",
          "name": "stdout",
          "text": [
            "#number of total data: 2000\n",
            "#number of incorrect:730 (36.5%)\n",
            "#average of incorrect: 0.4803921917808211\n",
            "0.9999\n",
            "-0.9997\n",
            "#sample incorrect doc: plot : two teen couples go to a church party , drink and then drive . \n",
            "they get into an accident . \n",
            "one of the guys dies , but his girlfriend continues to see him in her life , and has nightmares . \n",
            "what's the deal ? \n",
            "watch the movie and \" sorta \" find out . . . \n",
            "critique : a mind-fuck movie for the teen generation that touches on a very cool idea , but presents it in a very bad package . \n",
            "which is what makes this review an even harder one to write , since i generally applaud films which attempt to break the mold , mess with your head and such ( lost highway & memento ) , but there are good and bad ways of making all types of films , and these folks just didn't snag this one correctly . \n",
            "they seem to have taken this pretty neat concept , but executed it terribly . \n",
            "so what are the problems with the movie ? \n",
            "well , its main problem is that it's simply too jumbled . \n",
            "it starts off \" normal \" but then downshifts into this \" fantasy \" world in which you , as an audience member , have no idea what's going on . \n",
            "there are dreams , there are characters coming back from the dead , there are others who look like the dead , there are strange apparitions , there are disappearances , there are a looooot of chase scenes , there are tons of weird things that happen , and most of it is simply not explained . \n",
            "now i personally don't mind trying to unravel a film every now and then , but when all it does is give me the same clue over and over again , i get kind of fed up after a while , which is this film's biggest problem . \n",
            "it's obviously got this big secret to hide , but it seems to want to hide it completely until its final five minutes . \n",
            "and do they make things entertaining , thrilling or even engaging , in the meantime ? \n",
            "not really . \n",
            "the sad part is that the arrow and i both dig on flicks like this , so we actually figured most of it out by the half-way point , so all of the strangeness after that did start to make a little bit of sense , but it still didn't the make the film all that more entertaining . \n",
            "i guess the bottom line with movies like this is that you should always make sure that the audience is \" into it \" even before they are given the secret password to enter your world of understanding . \n",
            "i mean , showing melissa sagemiller running away from visions for about 20 minutes throughout the movie is just plain lazy ! ! \n",
            "okay , we get it . . . there \n",
            "are people chasing her and we don't know who they are . \n",
            "do we really need to see it over and over again ? \n",
            "how about giving us different scenes offering further insight into all of the strangeness going down in the movie ? \n",
            "apparently , the studio took this film away from its director and chopped it up themselves , and it shows . \n",
            "there might've been a pretty decent teen mind-fuck movie in here somewhere , but i guess \" the suits \" decided that turning it into a music video with little edge , would make more sense . \n",
            "the actors are pretty good for the most part , although wes bentley just seemed to be playing the exact same character that he did in american beauty , only in a new neighborhood . \n",
            "but my biggest kudos go out to sagemiller , who holds her own throughout the entire film , and actually has you feeling her character's unraveling . \n",
            "overall , the film doesn't stick because it doesn't entertain , it's confusing , it rarely excites and it feels pretty redundant for most of its runtime , despite a pretty cool ending and explanation to all of the craziness that came before it . \n",
            "oh , and by the way , this is not a horror or teen slasher flick . . . it's \n",
            "just packaged to look that way because someone is apparently assuming that the genre is still hot with the kids . \n",
            "it also wrapped production two years ago and has been sitting on the shelves ever since . \n",
            "whatever . . . skip \n",
            "it ! \n",
            "where's joblo coming from ? \n",
            "a nightmare of elm street 3 ( 7/10 ) - blair witch 2 ( 7/10 ) - the crow ( 9/10 ) - the crow : salvation ( 4/10 ) - lost highway ( 10/10 ) - memento ( 10/10 ) - the others ( 9/10 ) - stir of echoes ( 8/10 ) \n",
            "\n"
          ]
        },
        {
          "output_type": "display_data",
          "data": {
            "text/plain": [
              "<Figure size 432x288 with 2 Axes>"
            ],
            "image/png": "[encoded data removed]"
          },
          "metadata": {
            "needs_background": "light"
          }
        }
      ]
    },
    {
      "cell_type": "markdown",
      "source": [
        "- 오답 처리된 index 비교"
      ],
      "metadata": {
        "id": "sodBAwpoU5GF"
      }
    },
    {
      "cell_type": "code",
      "source": [
        "'''\n",
        "incorrect_idx : TextBlob\n",
        "incorrect_idx2 : AFINN\n",
        "incorrect_idx3 : Vader\n",
        "'''\n",
        "cnt = []\n",
        "for i in range(len(reviews)):\n",
        "  temp = 0\n",
        "  if i in incorrect_idx: temp += 1\n",
        "  if i in incorrect_idx2: temp += 1\n",
        "  if i in incorrect_idx3: temp += 1\n",
        "  cnt.append(temp)\n",
        "\n",
        "print('#number of all correct:', cnt.count(0))\n",
        "print('#number of 1 incorrect:', cnt.count(1))\n",
        "print('#number of 2 incorrect:', cnt.count(2))\n",
        "print('#number of 3 incorrect:', cnt.count(3))"
      ],
      "metadata": {
        "colab": {
          "base_uri": "https://localhost:8080/"
        },
        "id": "qWsT0TfXU4oy",
        "outputId": "ce8b9792-4ec1-48bc-ea5f-ab34a2ac6207"
      },
      "execution_count": 36,
      "outputs": [
        {
          "output_type": "stream",
          "name": "stdout",
          "text": [
            "#number of all correct: 926\n",
            "#number of 1 incorrect: 354\n",
            "#number of 2 incorrect: 312\n",
            "#number of 3 incorrect: 408\n"
          ]
        }
      ]
    },
    {
      "cell_type": "markdown",
      "source": [
        "# 앙상블!"
      ],
      "metadata": {
        "id": "4l3jZvxafQFf"
      }
    },
    {
      "cell_type": "markdown",
      "source": [
        "## 직접 구현하기\n",
        "- TextBlob, AFINN, Vader를 사용하여 voting 방식으로 앙상블한 결과를 출력해본다!\n",
        "- **soft voting** : 추정값의 평균을 낸 다음 분류\n",
        "  - 세가지 방법이 서로 결과값의 범위가 다르기 때문에 normalized 해줘야 함\n",
        "- **hard voting** : 추정값으로 추론을 한 다음 과반수를 차지한 클래스로 분류"
      ],
      "metadata": {
        "id": "8FYWR4NmuZ1M"
      }
    },
    {
      "cell_type": "code",
      "source": [
        "def absone_norm(value, absrange):\n",
        "  # -1.0 ~ 1.0 으로 normalize 하는 함수 \n",
        "  if absrange == 0:\n",
        "    raise Exception(\"can not divided by 0, change value of 'absrange'\")\n",
        "  \n",
        "  return value/absrange"
      ],
      "metadata": {
        "id": "mFrwxDJTNedO"
      },
      "execution_count": 21,
      "outputs": []
    },
    {
      "cell_type": "code",
      "source": [
        "import numpy as np\n",
        "\n",
        "def soft_voting(docs):\n",
        "  result = []\n",
        "  afn = Afinn(emoticons=True)\n",
        "  vader = SentimentIntensityAnalyzer()\n",
        "\n",
        "  for doc in docs:\n",
        "    analyzer = []\n",
        "    analyzer.append(TextBlob(doc).sentiment.polarity)\n",
        "    analyzer.append(absone_norm(afn.score(doc), 182))\n",
        "    # analyzer.append(vader.polarity_scores(doc)['compound'])\n",
        "\n",
        "    if sum(analyzer)/len(analyzer) > 0:\n",
        "      result.append('pos')\n",
        "    else:\n",
        "      result.append('neg')\n",
        "\n",
        "  return result"
      ],
      "metadata": {
        "id": "uST7QFUegsoC"
      },
      "execution_count": 31,
      "outputs": []
    },
    {
      "cell_type": "code",
      "source": [
        "def hard_voting(docs):\n",
        "  result = []\n",
        "  analyzer = []\n",
        "  analyzer.append(sentiment_TextBlob(docs))\n",
        "  analyzer.append(sentiment_Afinn(docs))\n",
        "  # analyzer.append(sentiment_vader(docs))\n",
        "\n",
        "  for t in zip(*analyzer):\n",
        "    npos = t.count('pos')\n",
        "    nneg = t.count('neg')\n",
        "    if npos+nneg != len(analyzer):\n",
        "      raise Exception('check number of npos and nneg')\n",
        "    \n",
        "    if npos > nneg:\n",
        "      result.append('pos')\n",
        "    else:\n",
        "      result.append('neg')\n",
        "  \n",
        "  return result"
      ],
      "metadata": {
        "id": "EJpSYBhxs-q8"
      },
      "execution_count": 32,
      "outputs": []
    },
    {
      "cell_type": "code",
      "source": [
        "%time print('#soft voting accuracy:', accuracy_score(categories, soft_voting(reviews)))\n",
        "%time print('#hard voting accuracy:', accuracy_score(categories, hard_voting(reviews)))"
      ],
      "metadata": {
        "colab": {
          "base_uri": "https://localhost:8080/"
        },
        "id": "-i4svwo9dCYB",
        "outputId": "032448fd-693d-4453-faa8-565ed11eeefb"
      },
      "execution_count": 33,
      "outputs": [
        {
          "output_type": "stream",
          "name": "stdout",
          "text": [
            "#soft voting accuracy: 0.639\n",
            "CPU times: user 56.6 s, sys: 195 ms, total: 56.8 s\n",
            "Wall time: 58.6 s\n",
            "#hard voting accuracy: 0.6755\n",
            "CPU times: user 59.1 s, sys: 218 ms, total: 59.3 s\n",
            "Wall time: 1min 7s\n"
          ]
        }
      ]
    },
    {
      "cell_type": "code",
      "source": [
        "from scipy.special import softmax\n",
        "weight = softmax([0.6, 0.664, 0.635]) # TextBlob, AFINN, Vader\n",
        "print(weight)"
      ],
      "metadata": {
        "colab": {
          "base_uri": "https://localhost:8080/"
        },
        "id": "VJQVpaO774b2",
        "outputId": "e0d71f1b-df7f-482f-9074-b0ac75959d72"
      },
      "execution_count": 25,
      "outputs": [
        {
          "output_type": "stream",
          "name": "stdout",
          "text": [
            "[0.32240258 0.34371094 0.33388647]\n"
          ]
        }
      ]
    },
    {
      "cell_type": "code",
      "source": [
        "def weighted_soft_voting(docs):\n",
        "  global weight\n",
        "  result = []\n",
        "  afn = Afinn(emoticons=True)\n",
        "  vader = SentimentIntensityAnalyzer()\n",
        "\n",
        "  for doc in docs:\n",
        "    analyzer = []\n",
        "    analyzer.append(TextBlob(doc).sentiment.polarity)\n",
        "    analyzer.append(absone_norm(afn.score(doc), 5))\n",
        "    # analyzer.append(vader.polarity_scores(doc)['compound'])\n",
        "\n",
        "    if sum(np.array(analyzer) * np.array(weight[:2]))/len(analyzer) > 0:\n",
        "      result.append('pos')\n",
        "    else:\n",
        "      result.append('neg')\n",
        "\n",
        "  return result"
      ],
      "metadata": {
        "id": "A8c3QgLUw5QQ"
      },
      "execution_count": 34,
      "outputs": []
    },
    {
      "cell_type": "code",
      "source": [
        "%time print('#weighted soft voting accuracy:', accuracy_score(categories, weighted_soft_voting(reviews)))"
      ],
      "metadata": {
        "colab": {
          "base_uri": "https://localhost:8080/"
        },
        "id": "CO0ix5mIDovw",
        "outputId": "6e1a83c5-0919-43d9-b7a5-fe28fab94abe"
      },
      "execution_count": 35,
      "outputs": [
        {
          "output_type": "stream",
          "name": "stdout",
          "text": [
            "#weighted soft voting accuracy: 0.6615\n",
            "CPU times: user 1min, sys: 230 ms, total: 1min\n",
            "Wall time: 1min 6s\n"
          ]
        }
      ]
    },
    {
      "cell_type": "markdown",
      "source": [
        "# 머신러닝 기반의 감성 분석"
      ],
      "metadata": {
        "id": "tQ-kIEFVFpXK"
      }
    },
    {
      "cell_type": "code",
      "source": [
        "from sklearn.model_selection import train_test_split\n",
        "\n",
        "X_train, X_test, y_train, y_test = train_test_split(reviews, categories, test_size=0.2, random_state=7)\n",
        "\n",
        "print('Train set count:', len(X_train))\n",
        "print('test set count:', len(X_test))"
      ],
      "metadata": {
        "colab": {
          "base_uri": "https://localhost:8080/"
        },
        "id": "yJUQwytZFuNk",
        "outputId": "e7f9de1c-df06-45d9-b9d9-7a3b575d5fd1"
      },
      "execution_count": 28,
      "outputs": [
        {
          "output_type": "stream",
          "name": "stdout",
          "text": [
            "Train set count: 1600\n",
            "test set count: 400\n"
          ]
        }
      ]
    },
    {
      "cell_type": "code",
      "source": [
        "from sklearn.feature_extraction.text import TfidfVectorizer\n",
        "from sklearn.naive_bayes import MultinomialNB\n",
        "\n",
        "tfidf = TfidfVectorizer()\n",
        "X_train_tfidf = tfidf.fit_transform(X_train) \n",
        "print('#Train set dimension:', X_train_tfidf.shape)\n",
        "\n",
        "X_test_tfidf = tfidf.transform(X_test)\n",
        "print('#Test set dimension:', X_test_tfidf.shape)\n",
        "\n",
        "NB_clf = MultinomialNB(alpha=0.01)\n",
        "%time NB_clf.fit(X_train_tfidf, y_train)\n",
        "print('#Train set score: {:.3f}'.format(NB_clf.score(X_train_tfidf, y_train)))\n",
        "print('#Test set score: {:.3f}'.format(NB_clf.score(X_test_tfidf, y_test)))"
      ],
      "metadata": {
        "colab": {
          "base_uri": "https://localhost:8080/"
        },
        "id": "5IRZEMDmGAcq",
        "outputId": "2477ab79-e1f2-4efa-f8de-cdb31a99e8c2"
      },
      "execution_count": 29,
      "outputs": [
        {
          "output_type": "stream",
          "name": "stdout",
          "text": [
            "#Train set dimension: (1600, 36189)\n",
            "#Test set dimension: (400, 36189)\n",
            "CPU times: user 11.6 ms, sys: 4 µs, total: 11.6 ms\n",
            "Wall time: 10.9 ms\n",
            "#Train set score: 0.998\n",
            "#Test set score: 0.797\n"
          ]
        }
      ]
    }
  ]
}